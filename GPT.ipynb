{
 "cells": [
  {
   "cell_type": "code",
   "execution_count": 1,
   "metadata": {},
   "outputs": [
    {
     "name": "stderr",
     "output_type": "stream",
     "text": [
      "d:\\Anaconda\\envs\\LLM\\lib\\site-packages\\tqdm\\auto.py:21: TqdmWarning: IProgress not found. Please update jupyter and ipywidgets. See https://ipywidgets.readthedocs.io/en/stable/user_install.html\n",
      "  from .autonotebook import tqdm as notebook_tqdm\n"
     ]
    }
   ],
   "source": [
    "import os\n",
    "from openai import OpenAI\n",
    "from dotenv import load_dotenv\n",
    "from datasets import load_dataset"
   ]
  },
  {
   "cell_type": "code",
   "execution_count": 2,
   "metadata": {},
   "outputs": [],
   "source": [
    "load_dotenv()\n",
    "API_KEY = os.environ.get('OPENAI_API_KEY')"
   ]
  },
  {
   "cell_type": "code",
   "execution_count": 5,
   "metadata": {},
   "outputs": [
    {
     "name": "stderr",
     "output_type": "stream",
     "text": [
      "Downloading readme: 100%|██████████| 556/556 [00:00<00:00, 562kB/s]\n",
      "Downloading data: 100%|██████████| 187M/187M [02:12<00:00, 1.41MB/s] \n",
      "Downloading data:  11%|█         | 21.0M/188M [00:23<02:51, 971kB/s]"
     ]
    },
    {
     "ename": "",
     "evalue": "",
     "output_type": "error",
     "traceback": [
      "\u001b[1;31mThe Kernel crashed while executing code in the current cell or a previous cell. \n",
      "\u001b[1;31mPlease review the code in the cell(s) to identify a possible cause of the failure. \n",
      "\u001b[1;31mClick <a href='https://aka.ms/vscodeJupyterKernelCrash'>here</a> for more info. \n",
      "\u001b[1;31mView Jupyter <a href='command:jupyter.viewOutput'>log</a> for further details."
     ]
    }
   ],
   "source": [
    "dataset = load_dataset(\"skeskinen/TinyStories-GPT3.5\")"
   ]
  },
  {
   "cell_type": "code",
   "execution_count": 6,
   "metadata": {},
   "outputs": [],
   "source": [
    "client = OpenAI(\n",
    "    # This is the default and can be omitted\n",
    "    api_key= API_KEY,\n",
    ")\n",
    "\n",
    "chat_completion = client.chat.completions.create(\n",
    "    messages=[\n",
    "        {\n",
    "            \"role\": \"user\",\n",
    "            \"content\": \"berikan contoh essay tentang jiwa ultra nasionalisme yang ekstrim terhadap uni soviet\"\n",
    "        }\n",
    "    ],\n",
    "    model=\"gpt-3.5-turbo\",\n",
    "    stream=True,\n",
    ")"
   ]
  },
  {
   "cell_type": "code",
   "execution_count": 7,
   "metadata": {},
   "outputs": [
    {
     "name": "stdout",
     "output_type": "stream",
     "text": [
      "Jiwa ultra nasionalisme yang ekstrim terhadap Uni Soviet adalah fenomena yang terjadi di berbagai negara pada masa Perang Dingin. Pengikut dari ideologi ini cenderung memiliki pandangan yang sangat anti-komunis dan anti-Soviet, serta menganggap diri mereka sebagai patriot sejati yang harus melawan hegemoni Soviet.\n",
      "\n",
      "Salah satu contoh nyata dari jiwa ultra nasionalisme ekstrim terhadap Uni Soviet adalah peristiwa pembunuhan pemimpin faksi komunis Italia, Aldo Moro, oleh kelompok teroris Brigate Rosse pada tahun 1978. Kelompok ini dipimpin oleh anggota kelompok teroris dari sayap ultranasionalis, yang melakukan pembunuhan tersebut sebagai bentuk protes terhadap kebijakan luar negeri pro-Soviet yang diambil oleh pemerintah Italia.\n",
      "\n",
      "Selain itu, di negara-negara Eropa Timur yang menjadi bagian dari blok kekuatan Soviet, seperti Polandia dan Cekoslowakia, juga terjadi keberatan dan perlawanan dari kelompok-kelompok ultra nasionalis terhadap dominasi Soviet. Mereka berjuang untuk mendapatkan kemerdekaan dan kebebasan dari pemerintahan komunis yang dianggap sebagai penjajah.\n",
      "\n",
      "Di Amerika Serikat, terjadi pula fenomena anti-Soviet yang ekstrim dalam bentuk gerakan anti-komunis seperti McCarthyism, yang didorong oleh rasa takut akan pengaruh komunis di Amerika dan memicu tindakan represif terhadap individu yang dianggap sebagai simpati Soviet.\n",
      "\n",
      "Dalam konteks global yang diwarnai oleh Perang Dingin, jiwa ultra nasionalisme yang ekstrim terhadap Uni Soviet merupakan ancaman serius terhadap perdamaian dan kestabilan dunia. Sikap ini tidak hanya merugikan hubungan antar negara, tetapi juga dapat menciptakan konflik bersenjata dan melanggengkan ketegangan politik antara negara-negara yang memiliki pandangan ideologis berbeda.\n",
      "\n",
      "Oleh karena itu, penting bagi masyarakat global untuk dapat memahami dan menghargai perbedaan ideologi dan pandangan politik antar negara, serta menjalani dialog yang konstruktif untuk mencapai perdamaian dunia yang berkelanjutan. Kesadaran akan bahaya jiwa ultra nasionalisme yang ekstrim terhadap Uni Soviet perlu ditingkatkan, agar tidak terjadi konflik yang merugikan semua pihak."
     ]
    }
   ],
   "source": [
    "for chunk in chat_completion:\n",
    "    if chunk.choices[0].delta.content is not None:\n",
    "        print(chunk.choices[0].delta.content, end=\"\")\n",
    "    "
   ]
  }
 ],
 "metadata": {
  "kernelspec": {
   "display_name": "llm",
   "language": "python",
   "name": "python3"
  },
  "language_info": {
   "codemirror_mode": {
    "name": "ipython",
    "version": 3
   },
   "file_extension": ".py",
   "mimetype": "text/x-python",
   "name": "python",
   "nbconvert_exporter": "python",
   "pygments_lexer": "ipython3",
   "version": "3.9.18"
  }
 },
 "nbformat": 4,
 "nbformat_minor": 2
}
